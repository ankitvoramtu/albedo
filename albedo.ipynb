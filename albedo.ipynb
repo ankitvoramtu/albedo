{
 "cells": [
  {
   "cell_type": "markdown",
   "metadata": {},
   "source": [
    "# Albedo Project\n",
    "\n",
    "***Calculate the albedo over a one acre area of forest near Tahoe, the albedo for an orchard in Tulare County, and the albedo for a tomato field near Davis.***\n",
    "\n",
    "## Follow-up questions\n",
    "1. Can you provide some context for how this albedo calculation would be used?\n",
    "<br><br>\n",
    "*We use albedo in our net radiation calculation. We take a surface energy balance approach to getting ET. We get net radiation using remote sensing techniques, we approximate ground heat flux as zero over a daily time step, and we measure sensible heat flux in the field with our sensor. We assume other energy balance terms, like photosynthesis, are a negligible part of the energy balance. Hence, latent heat flux, or ET, is calculated from net radiation minus ground heat flux minus sensible heat flux.*\n",
    "<br><br>\n",
    "1. Is the intent of this project to develop a model that can calculate albedo from certain local properties or find a remote data source for albedo and apply corrections to this measurement based on local properties?\n",
    "<br><br>\n",
    "*The intent is to find remote sensed data sources for albedo. I'm don't think I completely get what you mean about calculating albedo from local properties or correcting the remotely sensed albedo with local properties. I think you may mean using a model, where the input parameters are estimated using what we know about the site. I prefer to minimize the parameterization of our data processing, because any such estimated parameterization can lead us to be wrong if the physical world does not match our assumptions in the parameterization.*\n",
    "<br><br>\n",
    "1. What level of sophistication should be included in the model? Time of day, day of year, atmospheric conditions, aerosols, or just geographic and vegetation properties?\n",
    "<br><br>\n",
    "*The average albedo value over the course of any one particular day will work. I think geographic (that is, the three locations) and vegetative properties are a good starting point. Depending on your data source, corrections for atmospheric interference may need to be applied. Whatever you can't work into your code, it would be fine just to describe what you would do.*\n",
    "<br><br>"
   ]
  },
  {
   "cell_type": "markdown",
   "metadata": {},
   "source": [
    "# Background\n",
    "\n",
    "**Simple definition** \n",
    "\n",
    "Albedo is the ratio of reflected radiation to incident radiation at a surface. It includes both diffuse and specular reflectivity.\n",
    "\n",
    "**Non-local factors influencing albedo**\n",
    "\n",
    "1. Time of day/year which effects viewing angle (both which influence the angle of incidence/reflection) \n",
    "1. Incoming and reflected radiation spectrum (shortwave: visible 400-700nm, UV, NIR 700-2500nm; longwave 4-100 µm)\n",
    "\n",
    "** Local factors influencing albedo**\n",
    "1. Foliage nitrogen concentration [[2](#2)]\n",
    "1. A variety of other factors [[4](#4)]\n",
    "\n",
    "**Non-technical description** [[3](#3)]\n",
    "\n",
    "When sunlight reaches the Earth’s surface, some of it is absorbed and some is reflected. The relative amount (ratio) of light that a surface reflects compared to the total incoming sunlight is called albedo. Surfaces with high albedos include sand, snow and ice, and some urban surfaces, such as concrete or light-colored stone. Surfaces with low albedos include forests, the ocean, and some urban surfaces, such as asphalt.\n",
    "\n",
    "Albedo is important to Earth scientists because it plays a significant role in our planet’s average surface temperature. When a surface reflects incoming sunlight, it sends the energy back to space, where it doesn’t affect temperature or climate. When a surface absorbs light, however, solar energy is turned into heat. If the surface is snow or ice, it may melt; otherwise, the surface’s temperature rises.\n",
    "\n",
    "A surface’s albedo may change depending on the angle of the incoming sunlight and the satellite’s viewing angle. These maps show the albedo that would be observed at each location at noon local solar time—in other words, as if the Sun were directly overhead at every location.\n",
    "\n",
    "In addition, the same surface may not have the same albedo for all wavelengths of light. Consider leaves: they look green because they are reflecting a lot of the green wavelengths of light falling on them. So, they have a high albedo in green wavelengths. But we know they are absorbing other wavelengths of visible light for photosynthesis, so in those wavelengths (mostly red and blue), leaves have a low albedo. These maps show the combined albedo across all wavelengths of visible light measured by the MODIS sensors on NASA’s Aqua and Terra satellites."
   ]
  },
  {
   "cell_type": "markdown",
   "metadata": {},
   "source": [
    "## References\n",
    "\n",
    "1. <a id=\"1\" href=\"http://ascelibrary.org/doi/abs/10.1061/(ASCE)1084-0699(2008)13%3A2(51)\">At-Surface Reflectance and Albedo from Satellite for Operational Calculation of Land Surface Energy Balance</a>\n",
    "1. <a id=\"2\" href=\"http://www.nrs.fs.fed.us/pubs/jrnl/2010/nrs_2010_hollinger_001.pdf\">Albedo estimates for land surface models and support for a new paradigm based on foliage nitrogen concentration</a>\n",
    "1. <a id=\"3\" href=\"http://neo.sci.gsfc.nasa.gov/\">NEO NASA Earth Observations</a>\n",
    "1. <a id=\"4\" href=\"http://www.mdpi.com/2072-4292/7/11/15536/htm\">Estimating Crop Albedo in the Application of a Physical Model Based on the Law of Energy Conservation and Spectral Invariants</a>"
   ]
  },
  {
   "cell_type": "markdown",
   "metadata": {},
   "source": [
    "___"
   ]
  },
  {
   "cell_type": "markdown",
   "metadata": {},
   "source": [
    "## Approaches\n",
    "1. ~~Develop model for albedo based on geographic and vegetation physical properties. Will need data describing these for the various regions given above.~~\n",
    "1. Data provided by NASA at [MODIS](http://modis.gsfc.nasa.gov/), estimates the surface reflectance as measured at ground level in the absence of atmospheric gases and aerosols. There is also Albedo/BRDF data averaged over 16 days with resolution down to 500m. Use satellite data and atmospheric corrections such as relative humidity and elevation to achieve greater accuracy. [[1](#1)] However, this approach can only identify regions based on geography and not type of vegetation.\n",
    "\n",
    "## Input\n",
    "\n",
    "Remote sensing data in the form of radiance, surface reflectance, or whatever is the most appropriate.\n",
    "\n",
    "## Output \n",
    "\n",
    "Calculation of albedo for a 1 acre area in the specified region with the specified vegetation type, averaged over a single day."
   ]
  },
  {
   "cell_type": "markdown",
   "metadata": {},
   "source": [
    "___\n",
    "\n",
    "# Acquiring data\n",
    "\n",
    "*May require login*\n",
    "\n",
    "- [MODIS Land Data Overview](https://lpdaac.usgs.gov/dataset_discovery/modis)\n",
    "- [MODIS Tutorial](https://lpdaac.usgs.gov/sites/default/files/public/user_community/docs/opendap_services.html)\n",
    "\n",
    "## Select surface reflectance data\n",
    "\n",
    "*\"The MODIS Surface Reflectance products provide an estimate of the surface spectral reflectance as it would be measured at ground level in the absence of atmospheric scattering or absorption. Low-level data are corrected for atmospheric gases and aerosols, yielding a level-2 basis for several higher-order gridded level-2 (L2G) and level-3 products.\"*\n",
    "\n",
    "This seems to be the most appropriate as it removes atmospheric effects from the dataset. The daily dataset with a resolution of 500m is named `MOD09GA`. The land area here is ~250,000 square meters which is much larger than a single acre (~4000 square meters)."
   ]
  },
  {
   "cell_type": "markdown",
   "metadata": {},
   "source": [
    "### Why different versions of collected data?\n",
    "\n",
    "*'A MODIS data \"Collection\" is basically a MODIS data version. When new & improved science algorithms are developed, the entire MODIS dataset (from launch) is reprocessed and then tagged & distributed as a new \"Collection\".'*\n",
    "\n",
    "http://modis-atmos.gsfc.nasa.gov/\n",
    "\n",
    "Seems to make sense to use the lastest version (`006`) as it is may be prioritized over older versions in future data collection."
   ]
  },
  {
   "cell_type": "markdown",
   "metadata": {},
   "source": [
    "## Find appropriate latitude longitude\n",
    "\n",
    "Using google maps,\n",
    "1. Tomato field near Davis: 38.620183, -121.859365\n",
    "1. Orchard in Tulare County: 36.279175, -119.443977\n",
    "1. Forest near Lake Tahoe: 39.136493, -119.892478"
   ]
  },
  {
   "cell_type": "markdown",
   "metadata": {},
   "source": [
    "## Find tile containing appropriate data\n",
    "\n",
    "Two options:\n",
    "1. Use ModisTool to extract latitude longitude values from image files\n",
    "1. Use API to determine what MODIS tile contains these locations (*faster option*)\n",
    "\n",
    "<img src=\"modis_sinusoidal_grid.jpg\">\n",
    "\n"
   ]
  },
  {
   "cell_type": "code",
   "execution_count": 46,
   "metadata": {
    "collapsed": false
   },
   "outputs": [],
   "source": [
    "# import libraries\n",
    "\n",
    "import requests\n",
    "import numpy as np\n",
    "import pandas as pd\n",
    "import matplotlib.pyplot as plt\n",
    "import rasterio\n",
    "\n",
    "%matplotlib inline"
   ]
  },
  {
   "cell_type": "code",
   "execution_count": 73,
   "metadata": {
    "collapsed": true
   },
   "outputs": [],
   "source": [
    "# search parameters\n",
    "\n",
    "prodidver = 'MOD09GA.006'\n",
    "latlongs = ['38.620183,-121.859365', '36.279175,-119.443977', '39.136493,-119.892478']\n",
    "\n",
    "apiurl = 'https://lpdaacsvc.cr.usgs.gov/api'\n",
    "sampleurl = '{0}/sample?'.format(apiurl)\n",
    "\n",
    "samples = []\n",
    "for latlong in latlongs:\n",
    "    sampleargs = {\n",
    "        'product': prodidver,\n",
    "        'layer': 'gflags_1', # any layer will do\n",
    "        'startdate': '01-01-2016',\n",
    "        'enddate': '01-01-2016',\n",
    "        'coordinate': latlong,\n",
    "        'format': 'json'\n",
    "    }\n",
    "    samples.append(requests.get(sampleurl, params = sampleargs))"
   ]
  },
  {
   "cell_type": "code",
   "execution_count": 76,
   "metadata": {
    "collapsed": false
   },
   "outputs": [
    {
     "name": "stdout",
     "output_type": "stream",
     "text": [
      "Index(['Date', 'Latitude', 'Longitude', 'MOD09GA_006_Line_Y_1km',\n",
      "       'MOD09GA_006_Sample_X_1km', 'MOD09GA_006_gflags_1', 'MODIS_Tile'],\n",
      "      dtype='object')\n"
     ]
    }
   ],
   "source": [
    "series = [pd.Series(s.json()[0]) for s in samples]\n",
    "data = pd.concat(series, axis=1).T\n",
    "print(data.columns)"
   ]
  },
  {
   "cell_type": "code",
   "execution_count": 77,
   "metadata": {
    "collapsed": false
   },
   "outputs": [
    {
     "data": {
      "text/html": [
       "<div>\n",
       "<table border=\"1\" class=\"dataframe\">\n",
       "  <thead>\n",
       "    <tr style=\"text-align: right;\">\n",
       "      <th></th>\n",
       "      <th>Latitude</th>\n",
       "      <th>Longitude</th>\n",
       "      <th>MODIS_Tile</th>\n",
       "    </tr>\n",
       "  </thead>\n",
       "  <tbody>\n",
       "    <tr>\n",
       "      <th>0</th>\n",
       "      <td>38.6202</td>\n",
       "      <td>-121.859</td>\n",
       "      <td>h08v05</td>\n",
       "    </tr>\n",
       "    <tr>\n",
       "      <th>1</th>\n",
       "      <td>36.2792</td>\n",
       "      <td>-119.444</td>\n",
       "      <td>h08v05</td>\n",
       "    </tr>\n",
       "    <tr>\n",
       "      <th>2</th>\n",
       "      <td>39.1365</td>\n",
       "      <td>-119.892</td>\n",
       "      <td>h08v05</td>\n",
       "    </tr>\n",
       "  </tbody>\n",
       "</table>\n",
       "</div>"
      ],
      "text/plain": [
       "  Latitude Longitude MODIS_Tile\n",
       "0  38.6202  -121.859     h08v05\n",
       "1  36.2792  -119.444     h08v05\n",
       "2  39.1365  -119.892     h08v05"
      ]
     },
     "execution_count": 77,
     "metadata": {},
     "output_type": "execute_result"
    }
   ],
   "source": [
    "data[['Latitude', 'Longitude', 'MODIS_Tile']]"
   ]
  },
  {
   "cell_type": "markdown",
   "metadata": {},
   "source": [
    "So all three locations reside on the same tile."
   ]
  },
  {
   "cell_type": "markdown",
   "metadata": {},
   "source": [
    "## Select appropriate day of year\n",
    "\n",
    "June 1, 2016 seems to be an appropriate time of year to collect surface reflection information from the three regions. For the forest region, there is unlikely to be any snow which might give very different albedo measurements. For the tomato field, the crops should be planted and should still be growing until harvest in late summer. For the orchard, assuming the crops come from deciduous trees, there should be leaves on the tree."
   ]
  },
  {
   "cell_type": "markdown",
   "metadata": {},
   "source": [
    "## Download data\n",
    "\n",
    "MODIS filenames (i.e., the local granule ID) follow a naming convention which gives useful information regarding the specific product. For example, the filename **MOD09A1.A2006001.h08v05.005.2006012234657.hdf** indicates:\n",
    "\n",
    "- MOD09A1 - Product Short Name\n",
    "- .A2006001 - Julian Date of Acquisition (A-YYYYDDD)\n",
    "- .h08v05 - Tile Identifier (horizontalXXverticalYY)\n",
    "- .005 - Collection Version\n",
    "- .2006012234567 - Julian Date of Production (YYYYDDDHHMMSS)\n",
    "- .hdf - Data Format (HDF-EOS)"
   ]
  },
  {
   "cell_type": "code",
   "execution_count": 81,
   "metadata": {
    "collapsed": false
   },
   "outputs": [],
   "source": [
    "# lookup filename in the data pool (can code a program to download this if time allows)\n",
    "\n",
    "poolurl = 'http://e4ftl01.cr.usgs.gov/MOLT/MOD09GQ.006/2016.06.01/'\n",
    "fname = 'MOD09GQ.A2016153.h08v05.006.2016155063409.hdf'\n",
    "\n",
    "datareq = requests.get(poolurl+fname)"
   ]
  },
  {
   "cell_type": "code",
   "execution_count": 87,
   "metadata": {
    "collapsed": false
   },
   "outputs": [],
   "source": [
    "# save data\n",
    "\n",
    "with open('data.hdf', 'wb') as f:\n",
    "    f.write(datareq.content)"
   ]
  },
  {
   "cell_type": "markdown",
   "metadata": {},
   "source": [
    "output image extents (lat/lon):\n",
    "- Lat/Long of Upper-Left Corner: ( 39.999999996 -130.540728915 )\n",
    "- Lat/Long of Upper-Right Corner: ( 39.999999996 -117.486656023 )\n",
    "- Lat/Long of Lower-Left Corner: ( 29.999999997 -115.470053824 )\n",
    "- Lat/Long of Lower-Right Corner: ( 29.999999997 -103.923048442 )\n",
    "\n",
    "size: 1966 lines with 5233 samples"
   ]
  },
  {
   "cell_type": "code",
   "execution_count": 78,
   "metadata": {
    "collapsed": false
   },
   "outputs": [
    {
     "name": "stdout",
     "output_type": "stream",
     "text": [
      "Image size - Rows: 1966, Columns: 5233\n"
     ]
    }
   ],
   "source": [
    "with rasterio.open('MOD09GA.A2016153.h08v05.006.2016155063409.sur_refl_b01_1.tif') as src:\n",
    "    img1 = src.read()[0]\n",
    "print('Image size - Rows: {0}, Columns: {1}'.format(img1.shape[0], img1.shape[1]))"
   ]
  },
  {
   "cell_type": "markdown",
   "metadata": {},
   "source": [
    "According to the reference page for this data (*MOD09GA: MODIS/Terra Surface Reflectance Daily L2G Global 1km and 500m SIN Grid V006*), this 16-bit signed integer data must be scaled by a factor of 0.001. Specifically, from the user guide: *\"MOD09's  surface  reflectance  values  are  scaled  by  10000  and  then  cast  to  16-bit  integer,  so  surface \n",
    "reflectance values in MOD09 files are typically between 0 and 10000.\"* The valid range is from -100 to 16000, outside this range, the data is useless.\n",
    "\n",
    "https://lpdaac.usgs.gov/dataset_discovery/modis/modis_products_table/mod09ga_v006"
   ]
  },
  {
   "cell_type": "code",
   "execution_count": 79,
   "metadata": {
    "collapsed": false
   },
   "outputs": [],
   "source": [
    "# scale values\n",
    "\n",
    "img1 = img1*0.0001"
   ]
  },
  {
   "cell_type": "code",
   "execution_count": 90,
   "metadata": {
    "collapsed": false
   },
   "outputs": [
    {
     "name": "stdout",
     "output_type": "stream",
     "text": [
      "Valid range: -0.01 to 1.6\n",
      "Max: 1.4333, Min: -2.8672\n"
     ]
    }
   ],
   "source": [
    "print('Valid range: {0} to {1}'.format(-100*0.0001, 16000*0.0001))\n",
    "print('Max: {0}, Min: {1}'.format(img1.max(), img1.min()))"
   ]
  },
  {
   "cell_type": "markdown",
   "metadata": {},
   "source": [
    "## Retrieve desired pixel values\n",
    "\n",
    "First, need to determine orientation of image."
   ]
  },
  {
   "cell_type": "code",
   "execution_count": 104,
   "metadata": {
    "collapsed": false
   },
   "outputs": [
    {
     "data": {
      "text/plain": [
       "array([[ 0.3257,  0.3257,  0.3354,  0.3354,  0.3228],\n",
       "       [-2.8672, -2.8672,  0.3435,  0.3435,  0.324 ],\n",
       "       [-2.8672, -2.8672, -2.8672, -2.8672,  0.3547],\n",
       "       [-2.8672, -2.8672, -2.8672, -2.8672, -2.8672],\n",
       "       [-2.8672, -2.8672, -2.8672, -2.8672, -2.8672]])"
      ]
     },
     "execution_count": 104,
     "metadata": {},
     "output_type": "execute_result"
    }
   ],
   "source": [
    "# corner 1\n",
    "\n",
    "img1[:5,:5]"
   ]
  },
  {
   "cell_type": "code",
   "execution_count": 105,
   "metadata": {
    "collapsed": false
   },
   "outputs": [
    {
     "data": {
      "text/plain": [
       "array([[-2.8672, -2.8672, -2.8672, -2.8672, -2.8672],\n",
       "       [-2.8672, -2.8672, -2.8672, -2.8672, -2.8672],\n",
       "       [-2.8672, -2.8672, -2.8672, -2.8672, -2.8672],\n",
       "       [-2.8672, -2.8672, -2.8672, -2.8672, -2.8672],\n",
       "       [-2.8672, -2.8672, -2.8672, -2.8672, -2.8672]])"
      ]
     },
     "execution_count": 105,
     "metadata": {},
     "output_type": "execute_result"
    }
   ],
   "source": [
    "# corner 2\n",
    "\n",
    "img1[-5:, :5]"
   ]
  },
  {
   "cell_type": "code",
   "execution_count": 106,
   "metadata": {
    "collapsed": false
   },
   "outputs": [
    {
     "data": {
      "text/plain": [
       "array([[-2.8672, -2.8672, -2.8672, -2.8672, -2.8672],\n",
       "       [-2.8672, -2.8672, -2.8672, -2.8672, -2.8672],\n",
       "       [-2.8672, -2.8672, -2.8672, -2.8672, -2.8672],\n",
       "       [-2.8672, -2.8672, -2.8672, -2.8672, -2.8672],\n",
       "       [-2.8672, -2.8672, -2.8672, -2.8672, -2.8672]])"
      ]
     },
     "execution_count": 106,
     "metadata": {},
     "output_type": "execute_result"
    }
   ],
   "source": [
    "# corner 3\n",
    "\n",
    "img1[:5, -5:]"
   ]
  },
  {
   "cell_type": "code",
   "execution_count": 107,
   "metadata": {
    "collapsed": false
   },
   "outputs": [
    {
     "data": {
      "text/plain": [
       "array([[-2.8672, -2.8672, -2.8672, -2.8672, -2.8672],\n",
       "       [ 0.1619, -2.8672, -2.8672, -2.8672, -2.8672],\n",
       "       [ 0.1556,  0.1556, -2.8672, -2.8672, -2.8672],\n",
       "       [ 0.1605,  0.179 ,  0.1842, -2.8672, -2.8672],\n",
       "       [ 0.1729,  0.153 ,  0.1116,  0.1828, -2.8672]])"
      ]
     },
     "execution_count": 107,
     "metadata": {},
     "output_type": "execute_result"
    }
   ],
   "source": [
    "# corner 4\n",
    "\n",
    "img1[-5:, -5:]"
   ]
  },
  {
   "cell_type": "markdown",
   "metadata": {},
   "source": [
    "Matching the data in the four corners of the array with the image rendered by the `ModisTool`, it appears that corner 1 corresponds to the upper left of the image and corner 4 is the bottom right, corner 2 is then the bottom left and corner 3 is the rop right. This fits when comparing the aspect ratio of the image with the numpy matrix dimensions (1966x5233)."
   ]
  },
  {
   "cell_type": "code",
   "execution_count": 120,
   "metadata": {
    "collapsed": false
   },
   "outputs": [],
   "source": [
    "def findvalues(coords, img):\n",
    "    ul = np.array([40.0, -130.5407])\n",
    "    lr = np.array([30.0, -103.9230])\n",
    "    scale = ul-lr\n",
    "    scale[0] = abs(scale[0]/1966)\n",
    "    scale[1] = abs(scale[1]/5233)\n",
    "    pxl = []\n",
    "    for tfcoord, ulcoord, factor in zip(coords, ul, scale):\n",
    "        pxl.append(int(abs(tfcoord-ulcoord)/factor))\n",
    "    return img[pxl[0], pxl[1]]"
   ]
  },
  {
   "cell_type": "code",
   "execution_count": 124,
   "metadata": {
    "collapsed": false
   },
   "outputs": [
    {
     "name": "stdout",
     "output_type": "stream",
     "text": [
      "davis tomato field : 0.0674\n",
      "tulare orchard : 0.1222\n",
      "tahoe forest : 0.0329\n"
     ]
    }
   ],
   "source": [
    "geolocs = [[38.620183, -121.859365], [36.2792, -119.444], [39.136493, -119.892478]]\n",
    "\n",
    "for name,latlong in zip(['davis tomato field','tulare orchard', 'tahoe forest'], geolocs):\n",
    "    print(name, ':', findvalues(latlong, img1))"
   ]
  },
  {
   "cell_type": "markdown",
   "metadata": {},
   "source": [
    "This is the surface reflectance for the first band. For all spectral bands:"
   ]
  },
  {
   "cell_type": "code",
   "execution_count": 148,
   "metadata": {
    "collapsed": true
   },
   "outputs": [],
   "source": [
    "# define function to retrieve all values\n",
    "\n",
    "def remotesr(namebase, numbands=None):\n",
    "    # spectra names\n",
    "    spectra = ['620-670', '841-876', '459-479', '545-565', '1230-1250', '1628-1652', '2105-2155']\n",
    "    # filenames for requested number of bands\n",
    "    if numbands==None:\n",
    "        numbands=7\n",
    "    fnames = [namebase+'.sur_refl_b0'+str(i)+'_1.tif' for i in range(1,1+numbands)]  \n",
    "    # loop thru names and spectra\n",
    "    for fname,spectrum in zip(fnames, spectra[:numbands+1]):\n",
    "        with rasterio.open(fname) as src:\n",
    "            img = src.read()[0]\n",
    "        img = img*0.0001\n",
    "        print('')\n",
    "        print(fname)\n",
    "        print('Band:', spectrum+'nm')\n",
    "        geolocs = [[38.620183, -121.859365], [36.2792, -119.444], [39.136493, -119.892478]]\n",
    "        for name,latlong in zip(['davis tomato field','tulare orchard', 'tahoe forest'], geolocs):\n",
    "            print(name, ':', '{:.4f}'.format(findvalues(latlong, img)))\n",
    "    return"
   ]
  },
  {
   "cell_type": "code",
   "execution_count": 149,
   "metadata": {
    "collapsed": false
   },
   "outputs": [
    {
     "name": "stdout",
     "output_type": "stream",
     "text": [
      "\n",
      "MOD09GA.A2016153.h08v05.006.2016155063409.sur_refl_b01_1.tif\n",
      "Band: 620-670nm\n",
      "davis tomato field : 0.0674\n",
      "tulare orchard : 0.1222\n",
      "tahoe forest : 0.0329\n",
      "\n",
      "MOD09GA.A2016153.h08v05.006.2016155063409.sur_refl_b02_1.tif\n",
      "Band: 841-876nm\n",
      "davis tomato field : 0.2385\n",
      "tulare orchard : 0.2301\n",
      "tahoe forest : 0.1327\n",
      "\n",
      "MOD09GA.A2016153.h08v05.006.2016155063409.sur_refl_b03_1.tif\n",
      "Band: 459-479nm\n",
      "davis tomato field : 0.0317\n",
      "tulare orchard : 0.0651\n",
      "tahoe forest : 0.0184\n",
      "\n",
      "MOD09GA.A2016153.h08v05.006.2016155063409.sur_refl_b04_1.tif\n",
      "Band: 545-565nm\n",
      "davis tomato field : 0.0633\n",
      "tulare orchard : 0.0986\n",
      "tahoe forest : 0.0313\n",
      "\n",
      "MOD09GA.A2016153.h08v05.006.2016155063409.sur_refl_b05_1.tif\n",
      "Band: 1230-1250nm\n",
      "davis tomato field : 0.2310\n",
      "tulare orchard : 0.2850\n",
      "tahoe forest : 0.1364\n",
      "\n",
      "MOD09GA.A2016153.h08v05.006.2016155063409.sur_refl_b06_1.tif\n",
      "Band: 1628-1652nm\n",
      "davis tomato field : 0.1833\n",
      "tulare orchard : 0.2922\n",
      "tahoe forest : 0.1147\n",
      "\n",
      "MOD09GA.A2016153.h08v05.006.2016155063409.sur_refl_b07_1.tif\n",
      "Band: 2105-2155nm\n",
      "davis tomato field : 0.1094\n",
      "tulare orchard : 0.2423\n",
      "tahoe forest : 0.0699\n"
     ]
    }
   ],
   "source": [
    "remotesr('MOD09GA.A2016153.h08v05.006.2016155063409')"
   ]
  },
  {
   "cell_type": "markdown",
   "metadata": {},
   "source": [
    "### Comparison with Albedo measurements reported as part of the LP DAAC\n",
    "\n",
    "*\"The models support the spatial relationship and parameter characterization best describing the differences in radiation due to the scattering (anisotropy) of each pixel, relying on multi-date, atmospherically corrected, cloud-cleared input data measured over 16-day periods. Both Terra and Aqua data are used in the generation of this product, providing the highest probability for quality input data.\"*"
   ]
  },
  {
   "cell_type": "code",
   "execution_count": 86,
   "metadata": {
    "collapsed": false
   },
   "outputs": [
    {
     "name": "stdout",
     "output_type": "stream",
     "text": [
      "Image size - Rows: 1966, Columns: 5233\n"
     ]
    }
   ],
   "source": [
    "with rasterio.open('MCD43A3.A2016149.h08v05.006.2016181042723.Albedo_WSA_Band1.tif') as src:\n",
    "    imgwsa = src.read()[0]\n",
    "print('Image size - Rows: {0}, Columns: {1}'.format(imgwsa.shape[0], imgwsa.shape[1]))"
   ]
  },
  {
   "cell_type": "code",
   "execution_count": 87,
   "metadata": {
    "collapsed": false
   },
   "outputs": [],
   "source": [
    "imgwsa = imgwsa*0.001"
   ]
  },
  {
   "cell_type": "code",
   "execution_count": 94,
   "metadata": {
    "collapsed": false
   },
   "outputs": [
    {
     "name": "stdout",
     "output_type": "stream",
     "text": [
      "Valid range: 0 to 32.766\n",
      "Max: 32.767, Min: 0.0\n"
     ]
    }
   ],
   "source": [
    "print('Valid range: {0} to {1}'.format(0, 32766*0.001))\n",
    "print('Max: {0}, Min: {1}'.format(imgwsa.max(), imgwsa.min()))"
   ]
  },
  {
   "cell_type": "code",
   "execution_count": 98,
   "metadata": {
    "collapsed": false
   },
   "outputs": [
    {
     "name": "stdout",
     "output_type": "stream",
     "text": [
      "6,476,677 bad values out of 10,288,078\n"
     ]
    }
   ],
   "source": [
    "serwsa = pd.Series(imgwsa.flatten())\n",
    "print('{0:,} bad values out of {1:,}'.format(len(serwsa[serwsa==32.767]), len(serwsa)))"
   ]
  },
  {
   "cell_type": "code",
   "execution_count": 125,
   "metadata": {
    "collapsed": false
   },
   "outputs": [
    {
     "name": "stdout",
     "output_type": "stream",
     "text": [
      "davis tomato field : 0.085\n",
      "tulare orchard : 0.126\n",
      "tahoe forest : 0.034\n"
     ]
    }
   ],
   "source": [
    "geolocs = [[38.620183, -121.859365], [36.2792, -119.444], [39.136493, -119.892478]]\n",
    "\n",
    "for name,latlong in zip(['davis tomato field','tulare orchard', 'tahoe forest'], geolocs):\n",
    "    print(name, ':', findvalues(latlong, imgwsa))"
   ]
  },
  {
   "cell_type": "code",
   "execution_count": 139,
   "metadata": {
    "collapsed": false
   },
   "outputs": [
    {
     "name": "stdout",
     "output_type": "stream",
     "text": [
      "davis tomato field : 0.071\n",
      "tulare orchard : 0.115\n",
      "tahoe forest : 0.034\n"
     ]
    }
   ],
   "source": [
    "with rasterio.open('MCD43A3.A2016149.h08v05.006.2016181042723.Albedo_BSA_Band1.tif') as src:\n",
    "    imgbsa = src.read()[0]\n",
    "imgbsa = imgbsa*0.001\n",
    "    \n",
    "geolocs = [[38.620183, -121.859365], [36.2792, -119.444], [39.136493, -119.892478]]\n",
    "\n",
    "for name,latlong in zip(['davis tomato field','tulare orchard', 'tahoe forest'], geolocs):\n",
    "    print(name, ':', findvalues(latlong, imgbsa))"
   ]
  },
  {
   "cell_type": "code",
   "execution_count": 153,
   "metadata": {
    "collapsed": true
   },
   "outputs": [],
   "source": [
    "# define function to retrieve all values\n",
    "\n",
    "def remotealbedo(namebase, sky, numbands=None):\n",
    "    # spectra names\n",
    "    spectra = ['620-670', '841-876', '459-479', '545-565', '1230-1250', '1628-1652', '2105-2155']\n",
    "    # filenames for requested number of bands\n",
    "    if numbands==None:\n",
    "        numbands=7\n",
    "    fnames = [namebase+'.Albedo_'+sky.upper()+'_Band'+str(i)+'.tif' for i in range(1,1+numbands)]  \n",
    "    # loop thru names and spectra\n",
    "    for fname,spectrum in zip(fnames, spectra[:numbands+1]):\n",
    "        with rasterio.open(fname) as src:\n",
    "            img = src.read()[0]\n",
    "        img = img*0.001\n",
    "        print('')\n",
    "        print(fname)\n",
    "        print('Band:', spectrum+'nm')\n",
    "        geolocs = [[38.620183, -121.859365], [36.2792, -119.444], [39.136493, -119.892478]]\n",
    "        for name,latlong in zip(['davis tomato field','tulare orchard', 'tahoe forest'], geolocs):\n",
    "            print(name, ':', '{:.4f}'.format(findvalues(latlong, img)))\n",
    "    return"
   ]
  },
  {
   "cell_type": "code",
   "execution_count": 154,
   "metadata": {
    "collapsed": false
   },
   "outputs": [
    {
     "name": "stdout",
     "output_type": "stream",
     "text": [
      "\n",
      "MCD43A3.A2016149.h08v05.006.2016181042723.Albedo_BSA_Band1.tif\n",
      "Band: 620-670nm\n",
      "davis tomato field : 0.0710\n",
      "tulare orchard : 0.1150\n",
      "tahoe forest : 0.0340\n",
      "\n",
      "MCD43A3.A2016149.h08v05.006.2016181042723.Albedo_BSA_Band2.tif\n",
      "Band: 841-876nm\n",
      "davis tomato field : 0.2450\n",
      "tulare orchard : 0.2480\n",
      "tahoe forest : 0.1610\n",
      "\n",
      "MCD43A3.A2016149.h08v05.006.2016181042723.Albedo_BSA_Band3.tif\n",
      "Band: 459-479nm\n",
      "davis tomato field : 0.0360\n",
      "tulare orchard : 0.0640\n",
      "tahoe forest : 0.0170\n",
      "\n",
      "MCD43A3.A2016149.h08v05.006.2016181042723.Albedo_BSA_Band4.tif\n",
      "Band: 545-565nm\n",
      "davis tomato field : 0.0670\n",
      "tulare orchard : 0.0970\n",
      "tahoe forest : 0.0340\n",
      "\n",
      "MCD43A3.A2016149.h08v05.006.2016181042723.Albedo_BSA_Band5.tif\n",
      "Band: 1230-1250nm\n",
      "davis tomato field : 0.2370\n",
      "tulare orchard : 0.2750\n",
      "tahoe forest : 0.1430\n",
      "\n",
      "MCD43A3.A2016149.h08v05.006.2016181042723.Albedo_BSA_Band6.tif\n",
      "Band: 1628-1652nm\n",
      "davis tomato field : 0.1840\n",
      "tulare orchard : 0.2740\n",
      "tahoe forest : 0.1190\n",
      "\n",
      "MCD43A3.A2016149.h08v05.006.2016181042723.Albedo_BSA_Band7.tif\n",
      "Band: 2105-2155nm\n",
      "davis tomato field : 0.1190\n",
      "tulare orchard : 0.2200\n",
      "tahoe forest : 0.0650\n"
     ]
    }
   ],
   "source": [
    "remotealbedo('MCD43A3.A2016149.h08v05.006.2016181042723', 'BSA')"
   ]
  },
  {
   "cell_type": "code",
   "execution_count": 155,
   "metadata": {
    "collapsed": false
   },
   "outputs": [
    {
     "name": "stdout",
     "output_type": "stream",
     "text": [
      "\n",
      "MCD43A3.A2016149.h08v05.006.2016181042723.Albedo_WSA_Band1.tif\n",
      "Band: 620-670nm\n",
      "davis tomato field : 0.0850\n",
      "tulare orchard : 0.1260\n",
      "tahoe forest : 0.0340\n",
      "\n",
      "MCD43A3.A2016149.h08v05.006.2016181042723.Albedo_WSA_Band2.tif\n",
      "Band: 841-876nm\n",
      "davis tomato field : 0.3140\n",
      "tulare orchard : 0.2840\n",
      "tahoe forest : 0.2070\n",
      "\n",
      "MCD43A3.A2016149.h08v05.006.2016181042723.Albedo_WSA_Band3.tif\n",
      "Band: 459-479nm\n",
      "davis tomato field : 0.0420\n",
      "tulare orchard : 0.0700\n",
      "tahoe forest : 0.0160\n",
      "\n",
      "MCD43A3.A2016149.h08v05.006.2016181042723.Albedo_WSA_Band4.tif\n",
      "Band: 545-565nm\n",
      "davis tomato field : 0.0800\n",
      "tulare orchard : 0.1110\n",
      "tahoe forest : 0.0370\n",
      "\n",
      "MCD43A3.A2016149.h08v05.006.2016181042723.Albedo_WSA_Band5.tif\n",
      "Band: 1230-1250nm\n",
      "davis tomato field : 0.2990\n",
      "tulare orchard : 0.3240\n",
      "tahoe forest : 0.1630\n",
      "\n",
      "MCD43A3.A2016149.h08v05.006.2016181042723.Albedo_WSA_Band6.tif\n",
      "Band: 1628-1652nm\n",
      "davis tomato field : 0.2160\n",
      "tulare orchard : 0.3110\n",
      "tahoe forest : 0.1370\n",
      "\n",
      "MCD43A3.A2016149.h08v05.006.2016181042723.Albedo_WSA_Band7.tif\n",
      "Band: 2105-2155nm\n",
      "davis tomato field : 0.1390\n",
      "tulare orchard : 0.2440\n",
      "tahoe forest : 0.0600\n"
     ]
    }
   ],
   "source": [
    "remotealbedo('MCD43A3.A2016149.h08v05.006.2016181042723', 'WSA')"
   ]
  },
  {
   "cell_type": "markdown",
   "metadata": {},
   "source": [
    "<br>\n",
    "___\n",
    "\n",
    "# Supplemental\n",
    "\n",
    "Acquire individual pixel data through API rather than large image files"
   ]
  },
  {
   "cell_type": "code",
   "execution_count": 40,
   "metadata": {
    "collapsed": true
   },
   "outputs": [],
   "source": [
    "# import libraries\n",
    "\n",
    "import requests\n",
    "import pandas as pd"
   ]
  },
  {
   "cell_type": "code",
   "execution_count": 23,
   "metadata": {
    "collapsed": false
   },
   "outputs": [
    {
     "name": "stdout",
     "output_type": "stream",
     "text": [
      "Information was found for 85 products\n"
     ]
    },
    {
     "data": {
      "text/plain": [
       "dict_keys(['TemporalGranularity', 'Available', 'ProductAndVersion', 'Resolution', 'DocLink', 'Platform', 'RasterType', 'Product', 'Description', 'Version'])"
      ]
     },
     "execution_count": 23,
     "metadata": {},
     "output_type": "execute_result"
    }
   ],
   "source": [
    "SERVICES_URL = 'https://lpdaacsvc.cr.usgs.gov/api'\n",
    "products_req = requests.get('{0}/product?rasterType=tile&format=json'.format(SERVICES_URL))\n",
    "products = products_req.json()\n",
    "\n",
    "print('Information was found for {0} products'.format(len(products)))\n",
    "products[0].keys()"
   ]
  },
  {
   "cell_type": "code",
   "execution_count": 72,
   "metadata": {
    "collapsed": false,
    "scrolled": true
   },
   "outputs": [
    {
     "data": {
      "text/html": [
       "<div>\n",
       "<table border=\"1\" class=\"dataframe\">\n",
       "  <thead>\n",
       "    <tr style=\"text-align: right;\">\n",
       "      <th></th>\n",
       "      <th>0</th>\n",
       "      <th>1</th>\n",
       "      <th>2</th>\n",
       "    </tr>\n",
       "  </thead>\n",
       "  <tbody>\n",
       "    <tr>\n",
       "      <th>0</th>\n",
       "      <td>Combined MODIS</td>\n",
       "      <td>MCD12Q1</td>\n",
       "      <td>Land Cover Type</td>\n",
       "    </tr>\n",
       "    <tr>\n",
       "      <th>1</th>\n",
       "      <td>Combined MODIS</td>\n",
       "      <td>MCD12Q2</td>\n",
       "      <td>Land Cover Dynamics</td>\n",
       "    </tr>\n",
       "    <tr>\n",
       "      <th>2</th>\n",
       "      <td>Combined MODIS</td>\n",
       "      <td>MCD15A2</td>\n",
       "      <td>Leaf Area Index - FPAR</td>\n",
       "    </tr>\n",
       "    <tr>\n",
       "      <th>3</th>\n",
       "      <td>Combined MODIS</td>\n",
       "      <td>MCD15A2H</td>\n",
       "      <td>Leaf Area Index and Fractional Photosynthetica...</td>\n",
       "    </tr>\n",
       "    <tr>\n",
       "      <th>4</th>\n",
       "      <td>Combined MODIS</td>\n",
       "      <td>MCD15A3</td>\n",
       "      <td>Leaf Area Index - FPAR</td>\n",
       "    </tr>\n",
       "    <tr>\n",
       "      <th>5</th>\n",
       "      <td>Combined MODIS</td>\n",
       "      <td>MCD15A3H</td>\n",
       "      <td>Leaf Area Index and Fractional Photosynthetica...</td>\n",
       "    </tr>\n",
       "    <tr>\n",
       "      <th>6</th>\n",
       "      <td>Combined MODIS</td>\n",
       "      <td>MCD43A1</td>\n",
       "      <td>BRDF-Albedo Model Parameters</td>\n",
       "    </tr>\n",
       "    <tr>\n",
       "      <th>7</th>\n",
       "      <td>Combined MODIS</td>\n",
       "      <td>MCD43A2</td>\n",
       "      <td>BRDF-Albedo Quality</td>\n",
       "    </tr>\n",
       "    <tr>\n",
       "      <th>8</th>\n",
       "      <td>Combined MODIS</td>\n",
       "      <td>MCD43A3</td>\n",
       "      <td>Albedo</td>\n",
       "    </tr>\n",
       "    <tr>\n",
       "      <th>9</th>\n",
       "      <td>Combined MODIS</td>\n",
       "      <td>MCD43A4</td>\n",
       "      <td>Nadir BRDF-Adjusted Reflectance</td>\n",
       "    </tr>\n",
       "    <tr>\n",
       "      <th>10</th>\n",
       "      <td>Combined MODIS</td>\n",
       "      <td>MCD43B1</td>\n",
       "      <td>BRDF-Albedo Model Parameters</td>\n",
       "    </tr>\n",
       "    <tr>\n",
       "      <th>11</th>\n",
       "      <td>Combined MODIS</td>\n",
       "      <td>MCD43B2</td>\n",
       "      <td>BRDF-Albedo Quality</td>\n",
       "    </tr>\n",
       "    <tr>\n",
       "      <th>12</th>\n",
       "      <td>Combined MODIS</td>\n",
       "      <td>MCD43B3</td>\n",
       "      <td>Albedo</td>\n",
       "    </tr>\n",
       "    <tr>\n",
       "      <th>13</th>\n",
       "      <td>Combined MODIS</td>\n",
       "      <td>MCD43B4</td>\n",
       "      <td>Nadir BRDF-Adjusted Reflectance</td>\n",
       "    </tr>\n",
       "    <tr>\n",
       "      <th>14</th>\n",
       "      <td>Combined MODIS</td>\n",
       "      <td>MCD45A1</td>\n",
       "      <td>Thermal Anomalies &amp; Fire</td>\n",
       "    </tr>\n",
       "    <tr>\n",
       "      <th>15</th>\n",
       "      <td>Combined MODIS</td>\n",
       "      <td>MCD45A1</td>\n",
       "      <td>Thermal Anomalies &amp; Fire</td>\n",
       "    </tr>\n",
       "    <tr>\n",
       "      <th>16</th>\n",
       "      <td>Terra MODIS</td>\n",
       "      <td>MOD09A1</td>\n",
       "      <td>Surface Reflectance Bands 1-7</td>\n",
       "    </tr>\n",
       "    <tr>\n",
       "      <th>17</th>\n",
       "      <td>Terra MODIS</td>\n",
       "      <td>MOD09A1</td>\n",
       "      <td>Reflectance</td>\n",
       "    </tr>\n",
       "    <tr>\n",
       "      <th>18</th>\n",
       "      <td>Terra MODIS</td>\n",
       "      <td>MOD09GA</td>\n",
       "      <td>Surface Reflectance Bands 1-7</td>\n",
       "    </tr>\n",
       "    <tr>\n",
       "      <th>19</th>\n",
       "      <td>Terra MODIS</td>\n",
       "      <td>MOD09GA</td>\n",
       "      <td>Reflectance</td>\n",
       "    </tr>\n",
       "    <tr>\n",
       "      <th>20</th>\n",
       "      <td>Terra MODIS</td>\n",
       "      <td>MOD09GQ</td>\n",
       "      <td>Surface Reflectance Bands 1-2</td>\n",
       "    </tr>\n",
       "    <tr>\n",
       "      <th>21</th>\n",
       "      <td>Terra MODIS</td>\n",
       "      <td>MOD09GQ</td>\n",
       "      <td>Reflectance</td>\n",
       "    </tr>\n",
       "    <tr>\n",
       "      <th>22</th>\n",
       "      <td>Terra MODIS</td>\n",
       "      <td>MOD09Q1</td>\n",
       "      <td>Surface Reflectance Bands 1-2</td>\n",
       "    </tr>\n",
       "    <tr>\n",
       "      <th>23</th>\n",
       "      <td>Terra MODIS</td>\n",
       "      <td>MOD09Q1</td>\n",
       "      <td>Reflectance</td>\n",
       "    </tr>\n",
       "    <tr>\n",
       "      <th>24</th>\n",
       "      <td>Terra MODIS</td>\n",
       "      <td>MOD11A1</td>\n",
       "      <td>Land Surface Temperature &amp; Emissivity</td>\n",
       "    </tr>\n",
       "    <tr>\n",
       "      <th>25</th>\n",
       "      <td>Terra MODIS</td>\n",
       "      <td>MOD11A1</td>\n",
       "      <td>Temperature and Emissivity</td>\n",
       "    </tr>\n",
       "    <tr>\n",
       "      <th>26</th>\n",
       "      <td>Terra MODIS</td>\n",
       "      <td>MOD11A2</td>\n",
       "      <td>Land Surface Temperature &amp; Emissivity</td>\n",
       "    </tr>\n",
       "    <tr>\n",
       "      <th>27</th>\n",
       "      <td>Terra MODIS</td>\n",
       "      <td>MOD11A2</td>\n",
       "      <td>Temperature and Emissivity</td>\n",
       "    </tr>\n",
       "    <tr>\n",
       "      <th>28</th>\n",
       "      <td>Terra MODIS</td>\n",
       "      <td>MOD13A1</td>\n",
       "      <td>Vegetation Indices</td>\n",
       "    </tr>\n",
       "    <tr>\n",
       "      <th>29</th>\n",
       "      <td>Terra MODIS</td>\n",
       "      <td>MOD13A1</td>\n",
       "      <td>Vegetation Indices</td>\n",
       "    </tr>\n",
       "    <tr>\n",
       "      <th>...</th>\n",
       "      <td>...</td>\n",
       "      <td>...</td>\n",
       "      <td>...</td>\n",
       "    </tr>\n",
       "    <tr>\n",
       "      <th>55</th>\n",
       "      <td>Aqua MODIS</td>\n",
       "      <td>MYD09Q1</td>\n",
       "      <td>Reflectance</td>\n",
       "    </tr>\n",
       "    <tr>\n",
       "      <th>56</th>\n",
       "      <td>Aqua MODIS</td>\n",
       "      <td>MYD11A1</td>\n",
       "      <td>Land Surface Temperature &amp; Emissivity</td>\n",
       "    </tr>\n",
       "    <tr>\n",
       "      <th>57</th>\n",
       "      <td>Aqua MODIS</td>\n",
       "      <td>MYD11A1</td>\n",
       "      <td>Temperature and Emissivity</td>\n",
       "    </tr>\n",
       "    <tr>\n",
       "      <th>58</th>\n",
       "      <td>Aqua MODIS</td>\n",
       "      <td>MYD11A2</td>\n",
       "      <td>Land Surface Temperature &amp; Emissivity</td>\n",
       "    </tr>\n",
       "    <tr>\n",
       "      <th>59</th>\n",
       "      <td>Aqua MODIS</td>\n",
       "      <td>MYD11A2</td>\n",
       "      <td>Temperature and Emissivity</td>\n",
       "    </tr>\n",
       "    <tr>\n",
       "      <th>60</th>\n",
       "      <td>Aqua MODIS</td>\n",
       "      <td>MYD13A1</td>\n",
       "      <td>Vegetation Indices</td>\n",
       "    </tr>\n",
       "    <tr>\n",
       "      <th>61</th>\n",
       "      <td>Aqua MODIS</td>\n",
       "      <td>MYD13A1</td>\n",
       "      <td>Vegetation Indices</td>\n",
       "    </tr>\n",
       "    <tr>\n",
       "      <th>62</th>\n",
       "      <td>Aqua MODIS</td>\n",
       "      <td>MYD13A2</td>\n",
       "      <td>Vegetation Indices</td>\n",
       "    </tr>\n",
       "    <tr>\n",
       "      <th>63</th>\n",
       "      <td>Aqua MODIS</td>\n",
       "      <td>MYD13A2</td>\n",
       "      <td>Vegetation Indices</td>\n",
       "    </tr>\n",
       "    <tr>\n",
       "      <th>64</th>\n",
       "      <td>Aqua MODIS</td>\n",
       "      <td>MYD13A3</td>\n",
       "      <td>Vegetation Indices</td>\n",
       "    </tr>\n",
       "    <tr>\n",
       "      <th>65</th>\n",
       "      <td>Aqua MODIS</td>\n",
       "      <td>MYD13A3</td>\n",
       "      <td>Vegetation Indices</td>\n",
       "    </tr>\n",
       "    <tr>\n",
       "      <th>66</th>\n",
       "      <td>Aqua MODIS</td>\n",
       "      <td>MYD13Q1</td>\n",
       "      <td>Vegetation Indices</td>\n",
       "    </tr>\n",
       "    <tr>\n",
       "      <th>67</th>\n",
       "      <td>Aqua MODIS</td>\n",
       "      <td>MYD13Q1</td>\n",
       "      <td>Vegetation Indices</td>\n",
       "    </tr>\n",
       "    <tr>\n",
       "      <th>68</th>\n",
       "      <td>Aqua MODIS</td>\n",
       "      <td>MYD14A2</td>\n",
       "      <td>Thermal Anomalies &amp; Fire</td>\n",
       "    </tr>\n",
       "    <tr>\n",
       "      <th>69</th>\n",
       "      <td>Aqua MODIS</td>\n",
       "      <td>MYD14A2</td>\n",
       "      <td>Thermal Anomalies and Fire</td>\n",
       "    </tr>\n",
       "    <tr>\n",
       "      <th>70</th>\n",
       "      <td>Aqua MODIS</td>\n",
       "      <td>MYD15A2</td>\n",
       "      <td>Leaf Area Index - FPAR</td>\n",
       "    </tr>\n",
       "    <tr>\n",
       "      <th>71</th>\n",
       "      <td>Aqua MODIS</td>\n",
       "      <td>MYD15A2H</td>\n",
       "      <td>Leaf Area Index and Fractional Photosynthetica...</td>\n",
       "    </tr>\n",
       "    <tr>\n",
       "      <th>72</th>\n",
       "      <td>Aqua MODIS</td>\n",
       "      <td>MYD17A2</td>\n",
       "      <td>Gross Primary Productivity</td>\n",
       "    </tr>\n",
       "    <tr>\n",
       "      <th>73</th>\n",
       "      <td>Aqua MODIS</td>\n",
       "      <td>MYD17A2H</td>\n",
       "      <td>Gross Primary Productivity</td>\n",
       "    </tr>\n",
       "    <tr>\n",
       "      <th>74</th>\n",
       "      <td>Aqua MODIS</td>\n",
       "      <td>MYD17A3H</td>\n",
       "      <td>Net Primary Productivity</td>\n",
       "    </tr>\n",
       "    <tr>\n",
       "      <th>75</th>\n",
       "      <td>Aqua MODIS</td>\n",
       "      <td>MYDOCGA</td>\n",
       "      <td>Reflectance</td>\n",
       "    </tr>\n",
       "    <tr>\n",
       "      <th>76</th>\n",
       "      <td>Aqua MODIS</td>\n",
       "      <td>MYDTBGA</td>\n",
       "      <td>Reflectance</td>\n",
       "    </tr>\n",
       "    <tr>\n",
       "      <th>77</th>\n",
       "      <td>WELD</td>\n",
       "      <td>WELDAKMO</td>\n",
       "      <td>Alaska Monthly</td>\n",
       "    </tr>\n",
       "    <tr>\n",
       "      <th>78</th>\n",
       "      <td>WELD</td>\n",
       "      <td>WELDAKSE</td>\n",
       "      <td>Alaska Seasonal</td>\n",
       "    </tr>\n",
       "    <tr>\n",
       "      <th>79</th>\n",
       "      <td>WELD</td>\n",
       "      <td>WELDAKWK</td>\n",
       "      <td>Alaska Weekly</td>\n",
       "    </tr>\n",
       "    <tr>\n",
       "      <th>80</th>\n",
       "      <td>WELD</td>\n",
       "      <td>WELDAKYR</td>\n",
       "      <td>Alaska Annual</td>\n",
       "    </tr>\n",
       "    <tr>\n",
       "      <th>81</th>\n",
       "      <td>WELD</td>\n",
       "      <td>WELDUSMO</td>\n",
       "      <td>United States (CONUS) Monthly</td>\n",
       "    </tr>\n",
       "    <tr>\n",
       "      <th>82</th>\n",
       "      <td>WELD</td>\n",
       "      <td>WELDUSSE</td>\n",
       "      <td>United States (CONUS) Seasonal</td>\n",
       "    </tr>\n",
       "    <tr>\n",
       "      <th>83</th>\n",
       "      <td>WELD</td>\n",
       "      <td>WELDUSWK</td>\n",
       "      <td>United States (CONUS) Weekly</td>\n",
       "    </tr>\n",
       "    <tr>\n",
       "      <th>84</th>\n",
       "      <td>WELD</td>\n",
       "      <td>WELDUSYR</td>\n",
       "      <td>United States (CONUS) Annual</td>\n",
       "    </tr>\n",
       "  </tbody>\n",
       "</table>\n",
       "<p>85 rows × 3 columns</p>\n",
       "</div>"
      ],
      "text/plain": [
       "                 0         1  \\\n",
       "0   Combined MODIS   MCD12Q1   \n",
       "1   Combined MODIS   MCD12Q2   \n",
       "2   Combined MODIS   MCD15A2   \n",
       "3   Combined MODIS  MCD15A2H   \n",
       "4   Combined MODIS   MCD15A3   \n",
       "5   Combined MODIS  MCD15A3H   \n",
       "6   Combined MODIS   MCD43A1   \n",
       "7   Combined MODIS   MCD43A2   \n",
       "8   Combined MODIS   MCD43A3   \n",
       "9   Combined MODIS   MCD43A4   \n",
       "10  Combined MODIS   MCD43B1   \n",
       "11  Combined MODIS   MCD43B2   \n",
       "12  Combined MODIS   MCD43B3   \n",
       "13  Combined MODIS   MCD43B4   \n",
       "14  Combined MODIS   MCD45A1   \n",
       "15  Combined MODIS   MCD45A1   \n",
       "16     Terra MODIS   MOD09A1   \n",
       "17     Terra MODIS   MOD09A1   \n",
       "18     Terra MODIS   MOD09GA   \n",
       "19     Terra MODIS   MOD09GA   \n",
       "20     Terra MODIS   MOD09GQ   \n",
       "21     Terra MODIS   MOD09GQ   \n",
       "22     Terra MODIS   MOD09Q1   \n",
       "23     Terra MODIS   MOD09Q1   \n",
       "24     Terra MODIS   MOD11A1   \n",
       "25     Terra MODIS   MOD11A1   \n",
       "26     Terra MODIS   MOD11A2   \n",
       "27     Terra MODIS   MOD11A2   \n",
       "28     Terra MODIS   MOD13A1   \n",
       "29     Terra MODIS   MOD13A1   \n",
       "..             ...       ...   \n",
       "55      Aqua MODIS   MYD09Q1   \n",
       "56      Aqua MODIS   MYD11A1   \n",
       "57      Aqua MODIS   MYD11A1   \n",
       "58      Aqua MODIS   MYD11A2   \n",
       "59      Aqua MODIS   MYD11A2   \n",
       "60      Aqua MODIS   MYD13A1   \n",
       "61      Aqua MODIS   MYD13A1   \n",
       "62      Aqua MODIS   MYD13A2   \n",
       "63      Aqua MODIS   MYD13A2   \n",
       "64      Aqua MODIS   MYD13A3   \n",
       "65      Aqua MODIS   MYD13A3   \n",
       "66      Aqua MODIS   MYD13Q1   \n",
       "67      Aqua MODIS   MYD13Q1   \n",
       "68      Aqua MODIS   MYD14A2   \n",
       "69      Aqua MODIS   MYD14A2   \n",
       "70      Aqua MODIS   MYD15A2   \n",
       "71      Aqua MODIS  MYD15A2H   \n",
       "72      Aqua MODIS   MYD17A2   \n",
       "73      Aqua MODIS  MYD17A2H   \n",
       "74      Aqua MODIS  MYD17A3H   \n",
       "75      Aqua MODIS   MYDOCGA   \n",
       "76      Aqua MODIS   MYDTBGA   \n",
       "77            WELD  WELDAKMO   \n",
       "78            WELD  WELDAKSE   \n",
       "79            WELD  WELDAKWK   \n",
       "80            WELD  WELDAKYR   \n",
       "81            WELD  WELDUSMO   \n",
       "82            WELD  WELDUSSE   \n",
       "83            WELD  WELDUSWK   \n",
       "84            WELD  WELDUSYR   \n",
       "\n",
       "                                                    2  \n",
       "0                                     Land Cover Type  \n",
       "1                                 Land Cover Dynamics  \n",
       "2                              Leaf Area Index - FPAR  \n",
       "3   Leaf Area Index and Fractional Photosynthetica...  \n",
       "4                              Leaf Area Index - FPAR  \n",
       "5   Leaf Area Index and Fractional Photosynthetica...  \n",
       "6                        BRDF-Albedo Model Parameters  \n",
       "7                                 BRDF-Albedo Quality  \n",
       "8                                              Albedo  \n",
       "9                     Nadir BRDF-Adjusted Reflectance  \n",
       "10                       BRDF-Albedo Model Parameters  \n",
       "11                                BRDF-Albedo Quality  \n",
       "12                                             Albedo  \n",
       "13                    Nadir BRDF-Adjusted Reflectance  \n",
       "14                           Thermal Anomalies & Fire  \n",
       "15                           Thermal Anomalies & Fire  \n",
       "16                      Surface Reflectance Bands 1-7  \n",
       "17                                        Reflectance  \n",
       "18                      Surface Reflectance Bands 1-7  \n",
       "19                                        Reflectance  \n",
       "20                      Surface Reflectance Bands 1-2  \n",
       "21                                        Reflectance  \n",
       "22                      Surface Reflectance Bands 1-2  \n",
       "23                                        Reflectance  \n",
       "24              Land Surface Temperature & Emissivity  \n",
       "25                         Temperature and Emissivity  \n",
       "26              Land Surface Temperature & Emissivity  \n",
       "27                         Temperature and Emissivity  \n",
       "28                                 Vegetation Indices  \n",
       "29                                 Vegetation Indices  \n",
       "..                                                ...  \n",
       "55                                        Reflectance  \n",
       "56              Land Surface Temperature & Emissivity  \n",
       "57                         Temperature and Emissivity  \n",
       "58              Land Surface Temperature & Emissivity  \n",
       "59                         Temperature and Emissivity  \n",
       "60                                 Vegetation Indices  \n",
       "61                                 Vegetation Indices  \n",
       "62                                 Vegetation Indices  \n",
       "63                                 Vegetation Indices  \n",
       "64                                 Vegetation Indices  \n",
       "65                                 Vegetation Indices  \n",
       "66                                 Vegetation Indices  \n",
       "67                                 Vegetation Indices  \n",
       "68                           Thermal Anomalies & Fire  \n",
       "69                         Thermal Anomalies and Fire  \n",
       "70                             Leaf Area Index - FPAR  \n",
       "71  Leaf Area Index and Fractional Photosynthetica...  \n",
       "72                         Gross Primary Productivity  \n",
       "73                         Gross Primary Productivity  \n",
       "74                           Net Primary Productivity  \n",
       "75                                        Reflectance  \n",
       "76                                        Reflectance  \n",
       "77                                     Alaska Monthly  \n",
       "78                                    Alaska Seasonal  \n",
       "79                                      Alaska Weekly  \n",
       "80                                      Alaska Annual  \n",
       "81                      United States (CONUS) Monthly  \n",
       "82                     United States (CONUS) Seasonal  \n",
       "83                       United States (CONUS) Weekly  \n",
       "84                       United States (CONUS) Annual  \n",
       "\n",
       "[85 rows x 3 columns]"
      ]
     },
     "execution_count": 72,
     "metadata": {},
     "output_type": "execute_result"
    }
   ],
   "source": [
    "# possible satellite filters 'MOD' for Terra, 'MYD' for Aqua, 'MCD' for Composite (both)\n",
    "\n",
    "pd.DataFrame([[p['Platform'],p['Product'], p['Description']] for p in products])\n"
   ]
  },
  {
   "cell_type": "code",
   "execution_count": 7,
   "metadata": {
    "collapsed": false,
    "scrolled": true
   },
   "outputs": [
    {
     "data": {
      "text/plain": [
       "[{'Available': True,\n",
       "  'Description': 'Surface Reflectance Bands 1-7',\n",
       "  'DocLink': 'https://lpdaac.usgs.gov/dataset_discovery/modis/modis_products_table/mod09ga',\n",
       "  'Platform': 'Terra MODIS',\n",
       "  'Product': 'MOD09GA',\n",
       "  'ProductAndVersion': 'MOD09GA.005',\n",
       "  'RasterType': 'Tile',\n",
       "  'Resolution': '500/1000m',\n",
       "  'TemporalGranularity': 'Daily',\n",
       "  'Version': '005'},\n",
       " {'Available': True,\n",
       "  'Description': 'Reflectance',\n",
       "  'DocLink': 'https://lpdaac.usgs.gov/dataset_discovery/modis/modis_products_table/mod09ga_v006',\n",
       "  'Platform': 'Terra MODIS',\n",
       "  'Product': 'MOD09GA',\n",
       "  'ProductAndVersion': 'MOD09GA.006',\n",
       "  'RasterType': 'Tile',\n",
       "  'Resolution': '500/1000m',\n",
       "  'TemporalGranularity': 'Daily',\n",
       "  'Version': '006'}]"
      ]
     },
     "execution_count": 7,
     "metadata": {},
     "output_type": "execute_result"
    }
   ],
   "source": [
    "# select specific product for surface reflectance\n",
    "\n",
    "prodid = 'MOD09GA'\n",
    "\n",
    "[p for p in products if p['Product'] == prodid]"
   ]
  },
  {
   "cell_type": "code",
   "execution_count": 24,
   "metadata": {
    "collapsed": false
   },
   "outputs": [
    {
     "name": "stdout",
     "output_type": "stream",
     "text": [
      "This product contains 21 layers\n"
     ]
    },
    {
     "data": {
      "text/plain": [
       "dict_keys(['Dimensions', 'XSize', 'QualityLayers', 'Available', 'QualityProductAndVersion', 'ValidMax', 'Description', 'FillValue', 'YSize', 'ValidMin', 'Layer', 'DataType'])"
      ]
     },
     "execution_count": 24,
     "metadata": {},
     "output_type": "execute_result"
    }
   ],
   "source": [
    "prodidver = 'MOD09GA.006'\n",
    "\n",
    "product_layers_req = requests.get('{0}/product/{1}?format=json'.format(SERVICES_URL, prodidver))\n",
    "product_layers = product_layers_req.json()\n",
    "print('This product contains {0} layers'.format(len(product_layers)))\n",
    "product_layers[0].keys()"
   ]
  },
  {
   "cell_type": "code",
   "execution_count": 17,
   "metadata": {
    "collapsed": false
   },
   "outputs": [
    {
     "data": {
      "text/plain": [
       "[['gflags_1', 'Geolocation flags'],\n",
       " ['granule_pnt_1', 'Granule Pointer'],\n",
       " ['iobs_res_1', 'observation number in coarser grid'],\n",
       " ['num_observations_1km', 'Number of Observations'],\n",
       " ['obscov_500m_1', 'Observation coverage'],\n",
       " ['orbit_pnt_1', 'Orbit pointer'],\n",
       " ['q_scan_1', '250m scan value information'],\n",
       " ['QC_500m_1', '500m Reflectance Band Quality'],\n",
       " ['Range_1', 'Range (pixel to sensor)'],\n",
       " ['SensorAzimuth_1', 'Sensor azimuth'],\n",
       " ['SensorZenith_1', 'Sensor zenith'],\n",
       " ['SolarAzimuth_1', 'Solar azimuth'],\n",
       " ['SolarZenith_1', 'Solar zenith'],\n",
       " ['state_1km_1', '1km Reflectance Data State QA'],\n",
       " ['sur_refl_b01_1', '500m Surface Reflectance Band 1'],\n",
       " ['sur_refl_b02_1', '500m Surface Reflectance Band 2'],\n",
       " ['sur_refl_b03_1', '500m Surface Reflectance Band 3'],\n",
       " ['sur_refl_b04_1', '500m Surface Reflectance Band 4'],\n",
       " ['sur_refl_b05_1', '500m Surface Reflectance Band 5'],\n",
       " ['sur_refl_b06_1', '500m Surface Reflectance Band 6'],\n",
       " ['sur_refl_b07_1', '500m Surface Reflectance Band 7']]"
      ]
     },
     "execution_count": 17,
     "metadata": {},
     "output_type": "execute_result"
    }
   ],
   "source": [
    "[[p['Layer'], p['Description']] for p in product_layers]"
   ]
  },
  {
   "cell_type": "code",
   "execution_count": 52,
   "metadata": {
    "collapsed": false
   },
   "outputs": [
    {
     "name": "stdout",
     "output_type": "stream",
     "text": [
      "['gflags_1', 'granule_pnt_1', 'iobs_res_1', 'num_observations_1km', 'obscov_500m_1', 'orbit_pnt_1', 'q_scan_1', 'QC_500m_1', 'Range_1', 'SensorAzimuth_1', 'SensorZenith_1', 'SolarAzimuth_1', 'SolarZenith_1', 'state_1km_1', 'sur_refl_b01_1', 'sur_refl_b02_1', 'sur_refl_b03_1', 'sur_refl_b04_1', 'sur_refl_b05_1', 'sur_refl_b06_1', 'sur_refl_b07_1']\n"
     ]
    }
   ],
   "source": [
    "# layers\n",
    "\n",
    "print([p['Layer'] for p in product_layers])"
   ]
  },
  {
   "cell_type": "code",
   "execution_count": 67,
   "metadata": {
    "collapsed": false
   },
   "outputs": [],
   "source": [
    "layerids =  ['SensorAzimuth_1', 'SensorZenith_1', 'SolarAzimuth_1', 'SolarZenith_1', 'state_1km_1', \n",
    "             'sur_refl_b01_1', 'sur_refl_b02_1', 'sur_refl_b03_1', 'sur_refl_b04_1', 'sur_refl_b05_1', \n",
    "             'sur_refl_b06_1', 'sur_refl_b07_1']\n",
    "\n",
    "latlongs = ['38.620183,-121.859365', '36.279175,-119.443977', '39.136493,-119.892478']\n",
    "\n",
    "samples = []\n",
    "sample_url = '{0}/sample?'.format(SERVICES_URL)\n",
    "\n",
    "for latlong in latlongs:\n",
    "    for layerid in layerids:\n",
    "        sample_args = {\n",
    "            'product': prodidver,\n",
    "            'layer': layerid,\n",
    "            'startdate': '06-01-2016',\n",
    "            'enddate': '06-01-2016',\n",
    "            'coordinate': latlong,\n",
    "            'format': 'json'\n",
    "        }\n",
    "        samples.append(requests.get(sample_url, params = sample_args))"
   ]
  },
  {
   "cell_type": "code",
   "execution_count": 68,
   "metadata": {
    "collapsed": false
   },
   "outputs": [
    {
     "name": "stdout",
     "output_type": "stream",
     "text": [
      "36\n"
     ]
    },
    {
     "data": {
      "text/plain": [
       "{'Date': '2016-06-01T00:00:00.000Z',\n",
       " 'Latitude': 38.620183,\n",
       " 'Longitude': -121.859365,\n",
       " 'MOD09GA_006_Line_Y_1km': 165,\n",
       " 'MOD09GA_006_Sample_X_1km': 574,\n",
       " 'MOD09GA_006_SensorAzimuth_1': -79.0,\n",
       " 'MODIS_Tile': 'h08v05'}"
      ]
     },
     "execution_count": 68,
     "metadata": {},
     "output_type": "execute_result"
    }
   ],
   "source": [
    "print(len(samples))\n",
    "samples[0].json()[0]"
   ]
  },
  {
   "cell_type": "code",
   "execution_count": 71,
   "metadata": {
    "collapsed": false
   },
   "outputs": [],
   "source": [
    "# series = [pd.Series(s.json()[0]) for s in samples]\n",
    "# data = pd.concat(series, axis=1).T\n",
    "# data.info()\n",
    "# data"
   ]
  }
 ],
 "metadata": {
  "kernelspec": {
   "display_name": "Python 3",
   "language": "python",
   "name": "python3"
  },
  "language_info": {
   "codemirror_mode": {
    "name": "ipython",
    "version": 3
   },
   "file_extension": ".py",
   "mimetype": "text/x-python",
   "name": "python",
   "nbconvert_exporter": "python",
   "pygments_lexer": "ipython3",
   "version": "3.5.1+"
  }
 },
 "nbformat": 4,
 "nbformat_minor": 0
}
