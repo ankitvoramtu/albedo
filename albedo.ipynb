{
 "cells": [
  {
   "cell_type": "markdown",
   "metadata": {},
   "source": [
    "# Albedo Project\n",
    "\n",
    "***Calculate the albedo over a one acre area of forest near Tahoe, the albedo for an orchard in Tulare County, and the albedo for a tomato field near Davis.***\n",
    "\n",
    "## Follow-up questions\n",
    "1. Can you provide some context for how this albedo calculation would be used?\n",
    "<br><br>\n",
    "*We use albedo in our net radiation calculation. We take a surface energy balance approach to getting ET. We get net radiation using remote sensing techniques, we approximate ground heat flux as zero over a daily time step, and we measure sensible heat flux in the field with our sensor. We assume other energy balance terms, like photosynthesis, are a negligible part of the energy balance. Hence, latent heat flux, or ET, is calculated from net radiation minus ground heat flux minus sensible heat flux.*\n",
    "<br><br>\n",
    "1. Is the intent of this project to develop a model that can calculate albedo from certain local properties or find a remote data source for albedo and apply corrections to this measurement based on local properties?\n",
    "<br><br>\n",
    "*The intent is to find remote sensed data sources for albedo. I'm don't think I completely get what you mean about calculating albedo from local properties or correcting the remotely sensed albedo with local properties. I think you may mean using a model, where the input parameters are estimated using what we know about the site. I prefer to minimize the parameterization of our data processing, because any such estimated parameterization can lead us to be wrong if the physical world does not match our assumptions in the parameterization.*\n",
    "<br><br>\n",
    "1. What level of sophistication should be included in the model? Time of day, day of year, atmospheric conditions, aerosols, or just geographic and vegetation properties?\n",
    "<br><br>\n",
    "*The average albedo value over the course of any one particular day will work. I think geographic (that is, the three locations) and vegetative properties are a good starting point. Depending on your data source, corrections for atmospheric interference may need to be applied. Whatever you can't work into your code, it would be fine just to describe what you would do.*\n",
    "<br><br>"
   ]
  },
  {
   "cell_type": "markdown",
   "metadata": {},
   "source": [
    "## Background\n",
    "\n",
    "**Simple definition** \n",
    "\n",
    "Albedo is the ratio of reflected radiation to incident radiation at a surface. It includes both diffuse and specular reflectivity.\n",
    "\n",
    "**Non-local factors influencing albedo**\n",
    "\n",
    "1. Time of day/year which effects viewing angle (both which influence the angle of incidence/reflection) \n",
    "1. Incoming and reflected radiation spectrum (shortwave: visible 400-700nm, UV, NIR 700-2500nm; longwave 4-100 µm)\n",
    "\n",
    "** Local factors influencing albedo**\n",
    "1. Foliage nitrogen concentration [[2](#2)]\n",
    "1. A variety of other factors [[4](#4)]\n",
    "\n",
    "**Non-technical description** [[3](#3)]\n",
    "\n",
    "When sunlight reaches the Earth’s surface, some of it is absorbed and some is reflected. The relative amount (ratio) of light that a surface reflects compared to the total incoming sunlight is called albedo. Surfaces with high albedos include sand, snow and ice, and some urban surfaces, such as concrete or light-colored stone. Surfaces with low albedos include forests, the ocean, and some urban surfaces, such as asphalt.\n",
    "\n",
    "Albedo is important to Earth scientists because it plays a significant role in our planet’s average surface temperature. When a surface reflects incoming sunlight, it sends the energy back to space, where it doesn’t affect temperature or climate. When a surface absorbs light, however, solar energy is turned into heat. If the surface is snow or ice, it may melt; otherwise, the surface’s temperature rises.\n",
    "\n",
    "A surface’s albedo may change depending on the angle of the incoming sunlight and the satellite’s viewing angle. These maps show the albedo that would be observed at each location at noon local solar time—in other words, as if the Sun were directly overhead at every location.\n",
    "\n",
    "In addition, the same surface may not have the same albedo for all wavelengths of light. Consider leaves: they look green because they are reflecting a lot of the green wavelengths of light falling on them. So, they have a high albedo in green wavelengths. But we know they are absorbing other wavelengths of visible light for photosynthesis, so in those wavelengths (mostly red and blue), leaves have a low albedo. These maps show the combined albedo across all wavelengths of visible light measured by the MODIS sensors on NASA’s Aqua and Terra satellites."
   ]
  },
  {
   "cell_type": "markdown",
   "metadata": {},
   "source": [
    "## Approaches\n",
    "1. Develop model for albedo based on geographic and vegetation physical properties. Will need data describing these for the various regions given above.\n",
    "1. Data provided by NASA at [MODIS](http://modis.gsfc.nasa.gov/), estimates the surface reflectance as measured at ground level in the absence of atmospheric gases and aerosols. There is also Albedo/BRDF data averaged over 16 days with resolution down to 500m. Use satellite data and atmospheric corrections such as relative humidity and elevation to achieve greater accuracy. [[1](#1)] However, this approach can only identify regions based on geography and not type of vegetation.\n",
    "\n",
    "## Input\n",
    "\n",
    "Remote sensing data in the form of radiance, surface reflectance, or whatever is the most appropriate.\n",
    "\n",
    "## Output \n",
    "\n",
    "Calculation of albedo for a 1 acre area in the specified region with the specified vegetation type, averaged over a single day.\n",
    "\n",
    "## Assumptions\n",
    "\n",
    "1. Assume no snow or bodies of water present thus reflected solar radiation has neglible specular component and is mostly diffuse."
   ]
  },
  {
   "cell_type": "markdown",
   "metadata": {},
   "source": [
    "## References\n",
    "\n",
    "1. <a id=\"1\" href=\"http://ascelibrary.org/doi/abs/10.1061/(ASCE)1084-0699(2008)13%3A2(51)\">At-Surface Reflectance and Albedo from Satellite for Operational Calculation of Land Surface Energy Balance</a>\n",
    "1. <a id=\"2\" href=\"http://www.nrs.fs.fed.us/pubs/jrnl/2010/nrs_2010_hollinger_001.pdf\">Albedo estimates for land surface models and support for a new paradigm based on foliage nitrogen concentration</a>\n",
    "1. <a id=\"3\" href=\"http://neo.sci.gsfc.nasa.gov/\">NEO NASA Earth Observations</a>\n",
    "1. <a id=\"4\" href=\"http://www.mdpi.com/2072-4292/7/11/15536/htm\">Estimating Crop Albedo in the Application of a Physical Model Based on the Law of Energy Conservation and Spectral Invariants</a>"
   ]
  }
 ],
 "metadata": {
  "kernelspec": {
   "display_name": "Python 3",
   "language": "python",
   "name": "python3"
  },
  "language_info": {
   "codemirror_mode": {
    "name": "ipython",
    "version": 3
   },
   "file_extension": ".py",
   "mimetype": "text/x-python",
   "name": "python",
   "nbconvert_exporter": "python",
   "pygments_lexer": "ipython3",
   "version": "3.5.1"
  }
 },
 "nbformat": 4,
 "nbformat_minor": 0
}
